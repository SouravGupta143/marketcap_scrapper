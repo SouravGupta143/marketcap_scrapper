{
 "cells": [
  {
   "cell_type": "code",
   "execution_count": 179,
   "metadata": {},
   "outputs": [],
   "source": [
    "import requests\n",
    "import sqlite3 as sql\n",
    "import json"
   ]
  },
  {
   "cell_type": "code",
   "execution_count": 180,
   "metadata": {},
   "outputs": [],
   "source": [
    "db=sql.connect('marketcap.db')\n",
    "cur=db.cursor()"
   ]
  },
  {
   "cell_type": "code",
   "execution_count": 181,
   "metadata": {},
   "outputs": [
    {
     "data": {
      "text/plain": [
       "<sqlite3.Cursor at 0x7effc2a920a0>"
      ]
     },
     "execution_count": 181,
     "metadata": {},
     "output_type": "execute_result"
    }
   ],
   "source": [
    "#For making sql table\n",
    "# cur.execute(\"\"\"CREATE TABLE market(\n",
    "#                un_id INTEGER NOT NULL PRIMARY KEY UNIQUE,\n",
    "#                link_id INTEGER,\n",
    "#                date_time timestamp,\n",
    "#                date text,\n",
    "#                time text,\n",
    "#                btc real,\n",
    "#                open real,\n",
    "#                volume real,\n",
    "#                marketcap real\n",
    "#                );\n",
    "               \n",
    "#                     \"\"\")"
   ]
  },
  {
   "cell_type": "markdown",
   "metadata": {},
   "source": [
    "## you can change the range I mention in comments below to get the ID data from 1 to 100\n",
    "## I only take Id from 1 to 4"
   ]
  },
  {
   "cell_type": "code",
   "execution_count": 245,
   "metadata": {},
   "outputs": [],
   "source": [
    "cur.execute('select * from market limit 1')\n",
    "sql_table=cur.fetchone()\n",
    "if sql_table is None:\n",
    "    un_id=0\n",
    "    for var in range(1,5):   # change the range from 1 to 100     \n",
    "        try:\n",
    "            data=requests.get(f'https://web-api.coinmarketcap.com/v1.1/cryptocurrency/quotes/historical?convert=USD,BTC&format=chart_crypto_details&interval=1h&time_end=1598092056&time_start=1595413656&id={var}')\n",
    "            ac_data=json.loads(data.text)\n",
    "            link_id=var\n",
    "            \n",
    "            for val in ac_data['data'].items():\n",
    "                ori_date_time=val[0]\n",
    "                date_time=val[0].split('T')\n",
    "                conv_data=val[1]\n",
    "                un_id= un_id+1\n",
    "                cur.execute(\"\"\"INSERT INTO market(un_id,link_id,date_time,date,time,btc,open,volume,marketcap) \n",
    "                            VALUES(?,?,?,?,?,?,?,?,?)\"\"\",(un_id,link_id,ori_date_time,date_time[0],date_time[1],conv_data['BTC'][0],conv_data['USD'][0],conv_data['USD'][1],conv_data['USD'][2]))\n",
    "\n",
    "                db.commit()\n",
    "        except Exception as e:\n",
    "            print(f\"1. {e}\")\n",
    "            pass\n",
    "\n",
    "else:\n",
    "    cur.execute('select link_id from market')\n",
    "    id_db=cur.fetchall()\n",
    "    id_db_list=[a[0] for a in sorted(set(id_db))]\n",
    "    total_id=[a for a in range(1,5)] #change range from 1 to 100\n",
    "    if len(id_db_list)==len(total_id):\n",
    "        cur.execute('select un_id from market ORDER BY un_id DESC LIMIT 1')\n",
    "        un_id=cur.fetchone()\n",
    "        un_id=un_id[0]\n",
    "        for var in total_id:\n",
    "            try:\n",
    "                link_id=var\n",
    "                cur.execute(f'SELECT date_time from market WHERE link_id={var} ORDER BY un_id DESC LIMIT 1')\n",
    "                last_time=cur.fetchone()\n",
    "                data=requests.get(f'https://web-api.coinmarketcap.com/v1.1/cryptocurrency/quotes/historical?convert=USD,BTC&format=chart_crypto_details&interval=1h&time_end=1598092056&time_start=1595413656&id={var}')\n",
    "                ac_data=json.loads(data.text)\n",
    "                time_data=list(ac_data['data'].keys())\n",
    "                if last_time[0] in time_data:\n",
    "                    index=time_data.index(last_time[0])\n",
    "                if index-len(ac_data['data'].keys())==0:\n",
    "                    pass\n",
    "                else:\n",
    "                    for val in time_data[index+1:]:\n",
    "                        ori_date_time=val\n",
    "                        date_time=val.split('T')\n",
    "                        conv_data=ac_data['data'][val]\n",
    "                        un_id= un_id+1\n",
    "                        cur.execute(\"\"\"INSERT INTO market(un_id,link_id,date_time,date,time,btc,open,volume,marketcap) \n",
    "                                 VALUES(?,?,?,?,?,?,?,?,?)\"\"\",(un_id,link_id,ori_date_time,date_time[0],date_time[1],conv_data['BTC'][0],conv_data['USD'][0],conv_data['USD'][1],conv_data['USD'][2]))\n",
    "                        db.commit()\n",
    "            except Exception as e:\n",
    "                print(f\"2. {e}\")\n",
    "                pass\n",
    "        \n",
    "    else:\n",
    "        for var in id_db_list:\n",
    "            try:\n",
    "                link_id=var\n",
    "                cur.execute(f'SELECT date_time from market WHERE link_id={var} ORDER BY un_id DESC LIMIT 1')\n",
    "                last_time=cur.fetchone()\n",
    "                cur.execute('select un_id from market ORDER BY un_id DESC LIMIT 1')\n",
    "                un_id=cur.fetchone()\n",
    "                un_id=un_id[0]\n",
    "                data=requests.get(f'https://web-api.coinmarketcap.com/v1.1/cryptocurrency/quotes/historical?convert=USD,BTC&format=chart_crypto_details&interval=1h&time_end=1598092056&time_start=1595413656&id={var}')\n",
    "                ac_data=json.loads(data.text)\n",
    "                time_data=list(ac_data['data'].keys())\n",
    "                if last_time[0] in time_data:\n",
    "                    index=time_data.index(last_time[0])\n",
    "                if index-len(ac_data['data'].keys())==0:\n",
    "                    print('pass')\n",
    "                    pass\n",
    "                else:\n",
    "                    for val in time_data[index+1:]:\n",
    "                        ori_date_time=val\n",
    "                        date_time=val.split('T')\n",
    "                        conv_data=ac_data['data'][val]\n",
    "                        un_id= un_id+1\n",
    "                        cur.execute(\"\"\"INSERT INTO market(un_id,link_id,date_time,date,time,btc,open,volume,marketcap) \n",
    "                                 VALUES(?,?,?,?,?,?,?,?,?)\"\"\",(un_id,link_id,ori_date_time,date_time[0],date_time[1],conv_data['BTC'][0],conv_data['USD'][0],conv_data['USD'][1],conv_data['USD'][2]))\n",
    "                        db.commit()\n",
    "            except Exception as e:\n",
    "                print(f\"3. {e}\")\n",
    "                pass\n",
    "        for var in total_id:\n",
    "            cur.execute('select un_id from market ORDER BY un_id DESC LIMIT 1')\n",
    "            un_id=cur.fetchone()\n",
    "            un_id=un_id[0]\n",
    "            try:\n",
    "                if var in id_db_list:\n",
    "                    pass\n",
    "                else:\n",
    "                    data=requests.get(f'https://web-api.coinmarketcap.com/v1.1/cryptocurrency/quotes/historical?convert=USD,BTC&format=chart_crypto_details&interval=1h&time_end=1598092056&time_start=1595413656&id={var}')\n",
    "                    ac_data=json.loads(data.text)\n",
    "                    link_id=var\n",
    "                    for val in ac_data['data'].items():\n",
    "                        ori_date_time=val[0]\n",
    "                        date_time=val[0].split('T')\n",
    "                        conv_data=val[1]\n",
    "                        un_id= un_id+1\n",
    "                        cur.execute(\"\"\"INSERT INTO market(un_id,link_id,date_time,date,time,btc,open,volume,marketcap) \n",
    "                                    VALUES(?,?,?,?,?,?,?,?,?)\"\"\",(un_id,link_id,ori_date_time,date_time[0],date_time[1],conv_data['BTC'][0],conv_data['USD'][0],conv_data['USD'][1],conv_data['USD'][2]))\n",
    "\n",
    "                        db.commit()\n",
    "\n",
    "            except Exception as e:\n",
    "                print(f\"4. {e}\")\n",
    "                pass\n",
    "\n",
    "\n"
   ]
  },
  {
   "cell_type": "code",
   "execution_count": null,
   "metadata": {},
   "outputs": [],
   "source": []
  }
 ],
 "metadata": {
  "kernelspec": {
   "display_name": "Python 3",
   "language": "python",
   "name": "python3"
  },
  "language_info": {
   "codemirror_mode": {
    "name": "ipython",
    "version": 3
   },
   "file_extension": ".py",
   "mimetype": "text/x-python",
   "name": "python",
   "nbconvert_exporter": "python",
   "pygments_lexer": "ipython3",
   "version": "3.7.3"
  }
 },
 "nbformat": 4,
 "nbformat_minor": 2
}
